{
 "cells": [
  {
   "cell_type": "markdown",
   "id": "f79eb081",
   "metadata": {},
   "source": [
    "# Análise de Probabilidade de Retorno e Credit Scoring\n",
    "Este notebook segue o exercício proposto com base na teoria de modelos de classificação binária, utilizando a base de doações da Nota Fiscal Paulista."
   ]
  },
  {
   "cell_type": "markdown",
   "id": "e0ca95ce",
   "metadata": {},
   "source": [
    "## 1. Carregamento da base e filtro a partir de 2020"
   ]
  },
  {
   "cell_type": "code",
   "execution_count": null,
   "id": "41c86c11",
   "metadata": {},
   "outputs": [],
   "source": [
    "\n",
    "import pandas as pd\n",
    "\n",
    "# Carregar base\n",
    "df_nfp = pd.read_pickle(\"base_nfp.pkl\")\n",
    "\n",
    "# Filtrar dados a partir de janeiro de 2020\n",
    "df_2020 = df_nfp[df_nfp[\"Data Emissão\"] >= \"2020-01-01\"].copy()\n",
    "df_2020[\"flag_retorno\"] = (df_2020[\"Retorno\"] > 0).astype(int)\n",
    "df_2020.head()\n"
   ]
  },
  {
   "cell_type": "markdown",
   "id": "496ad574",
   "metadata": {},
   "source": [
    "## 2. Proporção de Notas com Retorno por Categoria"
   ]
  },
  {
   "cell_type": "code",
   "execution_count": null,
   "id": "f9fe043a",
   "metadata": {},
   "outputs": [],
   "source": [
    "\n",
    "import matplotlib.pyplot as plt\n",
    "import seaborn as sns\n",
    "\n",
    "# Agrupamento por categoria\n",
    "proporcao_retorno = (\n",
    "    df_2020.groupby(\"categoria\")[\"flag_retorno\"]\n",
    "    .mean()\n",
    "    .sort_values(ascending=False)\n",
    "    .reset_index()\n",
    ")\n",
    "\n",
    "# Gráfico\n",
    "plt.figure(figsize=(12, 6))\n",
    "sns.barplot(data=proporcao_retorno, x=\"flag_retorno\", y=\"categoria\", palette=\"viridis\")\n",
    "plt.xlabel(\"Proporção de Notas com Retorno > 0\")\n",
    "plt.ylabel(\"Categoria do Estabelecimento\")\n",
    "plt.title(\"Proporção de Notas com Retorno por Categoria (a partir de 2020)\")\n",
    "plt.tight_layout()\n",
    "plt.show()\n"
   ]
  },
  {
   "cell_type": "markdown",
   "id": "c57c1bce",
   "metadata": {},
   "source": [
    "## 3. Cálculo do Weight of Evidence (WoE)"
   ]
  },
  {
   "cell_type": "code",
   "execution_count": null,
   "id": "45968af0",
   "metadata": {},
   "outputs": [],
   "source": [
    "\n",
    "import numpy as np\n",
    "\n",
    "# Função WoE e IV\n",
    "def calculate_woe_iv(df, feature, target):\n",
    "    eps = 0.0001\n",
    "    temp = pd.crosstab(df[feature], df[target])\n",
    "    temp.columns = ['No_Event', 'Event'] if 0 in temp.columns else ['Event', 'No_Event']\n",
    "    temp['Dist_Event'] = temp['Event'] / temp['Event'].sum()\n",
    "    temp['Dist_No_Event'] = temp['No_Event'] / temp['No_Event'].sum()\n",
    "    temp['WoE'] = np.log((temp['Dist_Event'] + eps) / (temp['Dist_No_Event'] + eps))\n",
    "    temp['IV'] = (temp['Dist_Event'] - temp['Dist_No_Event']) * temp['WoE']\n",
    "    return temp.reset_index(), temp['IV'].sum()\n",
    "\n",
    "# Calcular WoE e IV\n",
    "woe_df, iv_categoria = calculate_woe_iv(df_2020, 'categoria', 'flag_retorno')\n",
    "woe_df_sorted = woe_df.sort_values(by='WoE', ascending=False)\n",
    "woe_df_sorted\n"
   ]
  },
  {
   "cell_type": "markdown",
   "id": "299d5b9d",
   "metadata": {},
   "source": [
    "## 4. Gráfico do WoE por Categoria"
   ]
  },
  {
   "cell_type": "code",
   "execution_count": null,
   "id": "1b03e3da",
   "metadata": {},
   "outputs": [],
   "source": [
    "\n",
    "# Gráfico de WoE\n",
    "plt.figure(figsize=(12, 6))\n",
    "sns.barplot(data=woe_df_sorted, x='WoE', y='categoria', palette='coolwarm')\n",
    "plt.title(\"WoE por Categoria de Estabelecimento\")\n",
    "plt.xlabel(\"Weight of Evidence (WoE)\")\n",
    "plt.ylabel(\"Categoria\")\n",
    "plt.tight_layout()\n",
    "plt.show()\n"
   ]
  },
  {
   "cell_type": "markdown",
   "id": "c6cec041",
   "metadata": {},
   "source": [
    "## 5. Information Value (IV) da variável `categoria`"
   ]
  },
  {
   "cell_type": "code",
   "execution_count": null,
   "id": "57714f05",
   "metadata": {},
   "outputs": [],
   "source": [
    "print(f'IV da variável categoria: {iv_categoria:.3f}')"
   ]
  },
  {
   "cell_type": "markdown",
   "id": "3e753c66",
   "metadata": {},
   "source": [
    "## 6. Conclusão"
   ]
  },
  {
   "cell_type": "markdown",
   "id": "4f3cb05b",
   "metadata": {},
   "source": [
    "\n",
    "Com base na análise dos dados a partir de 2020, observamos que algumas categorias de estabelecimentos têm maior propensão a gerar créditos. As categorias **Restaurantes** e **Alimentos** apresentaram os maiores valores de WoE, indicando uma forte associação com o evento de retorno positivo.\n",
    "\n",
    "A variável `categoria` apresenta um **Information Value (IV) de aproximadamente 0.278**, o que a classifica como uma variável com **poder preditivo moderado** segundo as faixas clássicas de interpretação de IV.\n",
    "\n",
    "Essa análise mostra que a variável `categoria` pode ser bastante útil em modelos de classificação binária para prever o retorno de crédito em notas fiscais.\n"
   ]
  }
 ],
 "metadata": {},
 "nbformat": 4,
 "nbformat_minor": 5
}
