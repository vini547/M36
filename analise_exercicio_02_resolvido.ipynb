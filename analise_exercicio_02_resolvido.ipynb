{
 "cells": [
  {
   "cell_type": "markdown",
   "id": "40841dc9",
   "metadata": {},
   "source": [
    "# 📘 Exercício II - Análise de Propensão de Geração de Crédito em Notas Fiscais"
   ]
  },
  {
   "cell_type": "markdown",
   "id": "7779ce2d",
   "metadata": {},
   "source": [
    "## 📌 Etapa 1: Criação de Variáveis Temporais"
   ]
  },
  {
   "cell_type": "code",
   "execution_count": null,
   "id": "2332f285",
   "metadata": {},
   "outputs": [],
   "source": [
    "\n",
    "import pandas as pd\n",
    "import numpy as np\n",
    "import matplotlib.pyplot as plt\n",
    "\n",
    "# Carregar base\n",
    "df = pd.read_pickle(\"base_nfp.pkl\")\n",
    "df[\"Data Emissão\"] = pd.to_datetime(df[\"Data Emissão\"])\n",
    "\n",
    "# Criar variáveis temporais\n",
    "df[\"dia_semana\"] = df[\"Data Emissão\"].dt.weekday\n",
    "df[\"fim_de_semana\"] = df[\"dia_semana\"].isin([5, 6]).astype(int)\n",
    "df[\"dia_mes\"] = df[\"Data Emissão\"].dt.day\n",
    "df[\"mes\"] = df[\"Data Emissão\"].dt.month\n",
    "df[\"trimestre\"] = df[\"Data Emissão\"].dt.quarter\n"
   ]
  },
  {
   "cell_type": "markdown",
   "id": "3193ec7b",
   "metadata": {},
   "source": [
    "## 📌 Etapa 2: Categorias por Quantis do Valor da Nota"
   ]
  },
  {
   "cell_type": "code",
   "execution_count": null,
   "id": "94da8492",
   "metadata": {},
   "outputs": [],
   "source": [
    "\n",
    "# Criar variáveis categóricas por quantis\n",
    "for q in [5, 10, 20, 50]:\n",
    "    df[f\"valor_nf_q{q}\"] = pd.qcut(df[\"Valor NF\"], q, duplicates=\"drop\").astype(str)\n"
   ]
  },
  {
   "cell_type": "markdown",
   "id": "0a098efb",
   "metadata": {},
   "source": [
    "## 📌 Etapa 3: Cálculo de Information Value (IV)"
   ]
  },
  {
   "cell_type": "code",
   "execution_count": null,
   "id": "03aa2fee",
   "metadata": {},
   "outputs": [],
   "source": [
    "\n",
    "# Flag de retorno\n",
    "df[\"flag_retorno\"] = (df[\"Retorno\"] > 0).astype(int)\n",
    "\n",
    "def calculate_woe_iv_auto(df, feature, target):\n",
    "    eps = 0.0001\n",
    "    df_temp = df[[feature, target]].copy()\n",
    "    df_temp = df_temp[df_temp[feature].notna()]\n",
    "    grouped = pd.crosstab(df_temp[feature], df_temp[target])\n",
    "    if 0 not in grouped.columns or 1 not in grouped.columns:\n",
    "        return None\n",
    "    grouped.columns = [\"No_Event\", \"Event\"]\n",
    "    grouped[\"Dist_Event\"] = grouped[\"Event\"] / grouped[\"Event\"].sum()\n",
    "    grouped[\"Dist_No_Event\"] = grouped[\"No_Event\"] / grouped[\"No_Event\"].sum()\n",
    "    grouped[\"WoE\"] = np.log((grouped[\"Dist_Event\"] + eps) / (grouped[\"Dist_No_Event\"] + eps))\n",
    "    grouped[\"IV\"] = (grouped[\"Dist_Event\"] - grouped[\"Dist_No_Event\"]) * grouped[\"WoE\"]\n",
    "    return grouped[\"IV\"].sum()\n",
    "\n",
    "variaveis = [\"dia_semana\", \"fim_de_semana\", \"dia_mes\", \"mes\", \"trimestre\",\n",
    "             \"valor_nf_q5\", \"valor_nf_q10\", \"valor_nf_q20\", \"valor_nf_q50\"]\n",
    "\n",
    "iv_scores = {v: calculate_woe_iv_auto(df, v, \"flag_retorno\") for v in variaveis}\n",
    "iv_scores = dict(sorted(iv_scores.items(), key=lambda item: item[1], reverse=True))\n",
    "iv_scores\n"
   ]
  },
  {
   "cell_type": "markdown",
   "id": "3456eedb",
   "metadata": {},
   "source": [
    "## 📌 Etapa 4: Análise Descritiva no Tempo"
   ]
  },
  {
   "cell_type": "code",
   "execution_count": null,
   "id": "7e64c536",
   "metadata": {},
   "outputs": [],
   "source": [
    "\n",
    "# Agregar por trimestre\n",
    "df[\"periodo_trimestre\"] = df[\"Data Emissão\"].dt.to_period(\"Q\").astype(str)\n",
    "notas_por_trimestre = df.groupby(\"periodo_trimestre\").size()\n",
    "notas_por_categoria = df.groupby([\"periodo_trimestre\", \"categoria\"]).size().unstack(fill_value=0)\n",
    "retorno_por_trimestre = df.groupby(\"periodo_trimestre\")[\"flag_retorno\"].mean()\n",
    "\n",
    "# Plots\n",
    "fig, axs = plt.subplots(3, 1, figsize=(14, 15), sharex=True)\n",
    "axs[0].plot(notas_por_trimestre.index, notas_por_trimestre.values, marker=\"o\")\n",
    "axs[0].set_title(\"Quantidade de Notas por Trimestre\")\n",
    "axs[0].grid(True)\n",
    "\n",
    "notas_por_categoria.plot(kind=\"bar\", stacked=True, ax=axs[1], colormap=\"tab20\")\n",
    "axs[1].set_title(\"Distribuição de Notas por Categoria (Trimestral)\")\n",
    "axs[1].legend(title=\"Categoria\", bbox_to_anchor=(1.05, 1))\n",
    "axs[1].grid(True)\n",
    "\n",
    "axs[2].plot(retorno_por_trimestre.index, retorno_por_trimestre.values, marker=\"s\", color=\"green\")\n",
    "axs[2].set_title(\"Proporção de Notas com Retorno (> 0) por Trimestre\")\n",
    "axs[2].grid(True)\n",
    "plt.tight_layout()\n",
    "plt.show()\n"
   ]
  },
  {
   "cell_type": "markdown",
   "id": "9901d2c6",
   "metadata": {},
   "source": [
    "\n",
    "## ✅ Conclusão\n",
    "\n",
    "- As variáveis que apresentaram maior IV foram as categorias criadas a partir de `Valor NF`, principalmente `valor_nf_q50` (IV ≈ 0.15), o que indica **poder preditivo moderado**.\n",
    "- Variáveis temporais como `dia da semana`, `mês` e `trimestre` apresentaram IVs fracos ou muito fracos.\n",
    "- Aumentar o número de categorias em `Valor NF` aumentou o IV, indicando maior poder de discriminação, mas esse efeito pode ser limitado por risco de overfitting.\n",
    "- A análise gráfica mostrou variações sazonais e operacionais importantes nos dados de emissão e retorno de crédito, o que pode indicar necessidade de **modelagem por segmento ou tempo**.\n",
    "\n",
    "**Próximos passos recomendados:**  \n",
    "- Aplicar WoE em variáveis contínuas discretizadas;  \n",
    "- Testar modelos com e sem WoE para comparar performance;  \n",
    "- Estudar estabilidade das variáveis ao longo do tempo (PSI);  \n",
    "- Considerar variáveis externas (ex: sazonalidade, pandemia).  \n"
   ]
  }
 ],
 "metadata": {},
 "nbformat": 4,
 "nbformat_minor": 5
}
